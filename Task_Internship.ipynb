{
 "cells": [
  {
   "cell_type": "markdown",
   "id": "a4208dff",
   "metadata": {},
   "source": [
    "Task given by 'Priyasha Rathore' from INSAID                                                       \n",
    "Auther Name  =  Ramdas Balasaheb Yamgar                                                          \n",
    "Project Name =  Fraud Transactions"
   ]
  },
  {
   "cell_type": "markdown",
   "id": "08527a67",
   "metadata": {},
   "source": [
    "# Importing Libraries"
   ]
  },
  {
   "cell_type": "code",
   "execution_count": 1,
   "id": "0236ca1f",
   "metadata": {},
   "outputs": [],
   "source": [
    "import numpy as np # linear algebra\n",
    "import pandas as pd # Data processing\n",
    "import matplotlib.pyplot as plt #Data visualization\n",
    "import seaborn as sns # Data visualization\n",
    "from sklearn.preprocessing import LabelEncoder # Label Encoding\n",
    "from sklearn.preprocessing import MinMaxScaler #Data scaling\n",
    "from imblearn.over_sampling import SMOTE # Balancing data\n",
    "from sklearn.metrics import confusion_matrix\n",
    "from sklearn.metrics import accuracy_score , precision_score , recall_score , f1_score\n",
    "from sklearn.metrics import roc_auc_score,roc_curve\n",
    "import warnings \n",
    "warnings.filterwarnings(\"ignore\")"
   ]
  },
  {
   "cell_type": "code",
   "execution_count": 2,
   "id": "eeadb68c",
   "metadata": {},
   "outputs": [],
   "source": [
    "df = pd.read_csv('Fraud.csv')"
   ]
  },
  {
   "cell_type": "code",
   "execution_count": 3,
   "id": "27d1992a",
   "metadata": {},
   "outputs": [
    {
     "data": {
      "text/plain": [
       "(6362620, 11)"
      ]
     },
     "execution_count": 3,
     "metadata": {},
     "output_type": "execute_result"
    }
   ],
   "source": [
    "df.shape"
   ]
  },
  {
   "cell_type": "code",
   "execution_count": 4,
   "id": "284c21cb",
   "metadata": {},
   "outputs": [
    {
     "data": {
      "text/html": [
       "<div>\n",
       "<style scoped>\n",
       "    .dataframe tbody tr th:only-of-type {\n",
       "        vertical-align: middle;\n",
       "    }\n",
       "\n",
       "    .dataframe tbody tr th {\n",
       "        vertical-align: top;\n",
       "    }\n",
       "\n",
       "    .dataframe thead th {\n",
       "        text-align: right;\n",
       "    }\n",
       "</style>\n",
       "<table border=\"1\" class=\"dataframe\">\n",
       "  <thead>\n",
       "    <tr style=\"text-align: right;\">\n",
       "      <th></th>\n",
       "      <th>step</th>\n",
       "      <th>type</th>\n",
       "      <th>amount</th>\n",
       "      <th>nameOrig</th>\n",
       "      <th>oldbalanceOrg</th>\n",
       "      <th>newbalanceOrig</th>\n",
       "      <th>nameDest</th>\n",
       "      <th>oldbalanceDest</th>\n",
       "      <th>newbalanceDest</th>\n",
       "      <th>isFraud</th>\n",
       "      <th>isFlaggedFraud</th>\n",
       "    </tr>\n",
       "  </thead>\n",
       "  <tbody>\n",
       "    <tr>\n",
       "      <th>0</th>\n",
       "      <td>1</td>\n",
       "      <td>PAYMENT</td>\n",
       "      <td>9839.64</td>\n",
       "      <td>C1231006815</td>\n",
       "      <td>170136.0</td>\n",
       "      <td>160296.36</td>\n",
       "      <td>M1979787155</td>\n",
       "      <td>0.0</td>\n",
       "      <td>0.0</td>\n",
       "      <td>0</td>\n",
       "      <td>0</td>\n",
       "    </tr>\n",
       "    <tr>\n",
       "      <th>1</th>\n",
       "      <td>1</td>\n",
       "      <td>PAYMENT</td>\n",
       "      <td>1864.28</td>\n",
       "      <td>C1666544295</td>\n",
       "      <td>21249.0</td>\n",
       "      <td>19384.72</td>\n",
       "      <td>M2044282225</td>\n",
       "      <td>0.0</td>\n",
       "      <td>0.0</td>\n",
       "      <td>0</td>\n",
       "      <td>0</td>\n",
       "    </tr>\n",
       "    <tr>\n",
       "      <th>2</th>\n",
       "      <td>1</td>\n",
       "      <td>TRANSFER</td>\n",
       "      <td>181.00</td>\n",
       "      <td>C1305486145</td>\n",
       "      <td>181.0</td>\n",
       "      <td>0.00</td>\n",
       "      <td>C553264065</td>\n",
       "      <td>0.0</td>\n",
       "      <td>0.0</td>\n",
       "      <td>1</td>\n",
       "      <td>0</td>\n",
       "    </tr>\n",
       "    <tr>\n",
       "      <th>3</th>\n",
       "      <td>1</td>\n",
       "      <td>CASH_OUT</td>\n",
       "      <td>181.00</td>\n",
       "      <td>C840083671</td>\n",
       "      <td>181.0</td>\n",
       "      <td>0.00</td>\n",
       "      <td>C38997010</td>\n",
       "      <td>21182.0</td>\n",
       "      <td>0.0</td>\n",
       "      <td>1</td>\n",
       "      <td>0</td>\n",
       "    </tr>\n",
       "    <tr>\n",
       "      <th>4</th>\n",
       "      <td>1</td>\n",
       "      <td>PAYMENT</td>\n",
       "      <td>11668.14</td>\n",
       "      <td>C2048537720</td>\n",
       "      <td>41554.0</td>\n",
       "      <td>29885.86</td>\n",
       "      <td>M1230701703</td>\n",
       "      <td>0.0</td>\n",
       "      <td>0.0</td>\n",
       "      <td>0</td>\n",
       "      <td>0</td>\n",
       "    </tr>\n",
       "  </tbody>\n",
       "</table>\n",
       "</div>"
      ],
      "text/plain": [
       "   step      type    amount     nameOrig  oldbalanceOrg  newbalanceOrig  \\\n",
       "0     1   PAYMENT   9839.64  C1231006815       170136.0       160296.36   \n",
       "1     1   PAYMENT   1864.28  C1666544295        21249.0        19384.72   \n",
       "2     1  TRANSFER    181.00  C1305486145          181.0            0.00   \n",
       "3     1  CASH_OUT    181.00   C840083671          181.0            0.00   \n",
       "4     1   PAYMENT  11668.14  C2048537720        41554.0        29885.86   \n",
       "\n",
       "      nameDest  oldbalanceDest  newbalanceDest  isFraud  isFlaggedFraud  \n",
       "0  M1979787155             0.0             0.0        0               0  \n",
       "1  M2044282225             0.0             0.0        0               0  \n",
       "2   C553264065             0.0             0.0        1               0  \n",
       "3    C38997010         21182.0             0.0        1               0  \n",
       "4  M1230701703             0.0             0.0        0               0  "
      ]
     },
     "execution_count": 4,
     "metadata": {},
     "output_type": "execute_result"
    }
   ],
   "source": [
    "df.head()"
   ]
  },
  {
   "cell_type": "code",
   "execution_count": 5,
   "id": "3aa369ee",
   "metadata": {},
   "outputs": [
    {
     "data": {
      "text/plain": [
       "Index(['step', 'type', 'amount', 'nameOrig', 'oldbalanceOrg', 'newbalanceOrig',\n",
       "       'nameDest', 'oldbalanceDest', 'newbalanceDest', 'isFraud',\n",
       "       'isFlaggedFraud'],\n",
       "      dtype='object')"
      ]
     },
     "execution_count": 5,
     "metadata": {},
     "output_type": "execute_result"
    }
   ],
   "source": [
    "df.columns"
   ]
  },
  {
   "cell_type": "code",
   "execution_count": 6,
   "id": "4ff64dee",
   "metadata": {},
   "outputs": [
    {
     "data": {
      "text/plain": [
       "step              0.0\n",
       "type              0.0\n",
       "amount            0.0\n",
       "nameOrig          0.0\n",
       "oldbalanceOrg     0.0\n",
       "newbalanceOrig    0.0\n",
       "nameDest          0.0\n",
       "oldbalanceDest    0.0\n",
       "newbalanceDest    0.0\n",
       "isFraud           0.0\n",
       "isFlaggedFraud    0.0\n",
       "dtype: float64"
      ]
     },
     "execution_count": 6,
     "metadata": {},
     "output_type": "execute_result"
    }
   ],
   "source": [
    "# Checking Nulls\n",
    "df.isna().mean()*100"
   ]
  },
  {
   "cell_type": "code",
   "execution_count": 7,
   "id": "8475f4d6",
   "metadata": {},
   "outputs": [
    {
     "data": {
      "text/plain": [
       "step                int64\n",
       "type               object\n",
       "amount            float64\n",
       "nameOrig           object\n",
       "oldbalanceOrg     float64\n",
       "newbalanceOrig    float64\n",
       "nameDest           object\n",
       "oldbalanceDest    float64\n",
       "newbalanceDest    float64\n",
       "isFraud             int64\n",
       "isFlaggedFraud      int64\n",
       "dtype: object"
      ]
     },
     "execution_count": 7,
     "metadata": {},
     "output_type": "execute_result"
    }
   ],
   "source": [
    "df.dtypes"
   ]
  },
  {
   "cell_type": "code",
   "execution_count": 8,
   "id": "6b055c75",
   "metadata": {},
   "outputs": [
    {
     "data": {
      "text/html": [
       "<div>\n",
       "<style scoped>\n",
       "    .dataframe tbody tr th:only-of-type {\n",
       "        vertical-align: middle;\n",
       "    }\n",
       "\n",
       "    .dataframe tbody tr th {\n",
       "        vertical-align: top;\n",
       "    }\n",
       "\n",
       "    .dataframe thead th {\n",
       "        text-align: right;\n",
       "    }\n",
       "</style>\n",
       "<table border=\"1\" class=\"dataframe\">\n",
       "  <thead>\n",
       "    <tr style=\"text-align: right;\">\n",
       "      <th></th>\n",
       "      <th>step</th>\n",
       "      <th>amount</th>\n",
       "      <th>oldbalanceOrg</th>\n",
       "      <th>newbalanceOrig</th>\n",
       "      <th>oldbalanceDest</th>\n",
       "      <th>newbalanceDest</th>\n",
       "      <th>isFraud</th>\n",
       "      <th>isFlaggedFraud</th>\n",
       "    </tr>\n",
       "  </thead>\n",
       "  <tbody>\n",
       "    <tr>\n",
       "      <th>count</th>\n",
       "      <td>6362620.00</td>\n",
       "      <td>6362620.00</td>\n",
       "      <td>6362620.00</td>\n",
       "      <td>6362620.00</td>\n",
       "      <td>6362620.00</td>\n",
       "      <td>6362620.00</td>\n",
       "      <td>6362620.00</td>\n",
       "      <td>6362620.00</td>\n",
       "    </tr>\n",
       "    <tr>\n",
       "      <th>mean</th>\n",
       "      <td>243.40</td>\n",
       "      <td>179861.90</td>\n",
       "      <td>833883.10</td>\n",
       "      <td>855113.67</td>\n",
       "      <td>1100701.67</td>\n",
       "      <td>1224996.40</td>\n",
       "      <td>0.00</td>\n",
       "      <td>0.00</td>\n",
       "    </tr>\n",
       "    <tr>\n",
       "      <th>std</th>\n",
       "      <td>142.33</td>\n",
       "      <td>603858.23</td>\n",
       "      <td>2888242.67</td>\n",
       "      <td>2924048.50</td>\n",
       "      <td>3399180.11</td>\n",
       "      <td>3674128.94</td>\n",
       "      <td>0.04</td>\n",
       "      <td>0.00</td>\n",
       "    </tr>\n",
       "    <tr>\n",
       "      <th>min</th>\n",
       "      <td>1.00</td>\n",
       "      <td>0.00</td>\n",
       "      <td>0.00</td>\n",
       "      <td>0.00</td>\n",
       "      <td>0.00</td>\n",
       "      <td>0.00</td>\n",
       "      <td>0.00</td>\n",
       "      <td>0.00</td>\n",
       "    </tr>\n",
       "    <tr>\n",
       "      <th>25%</th>\n",
       "      <td>156.00</td>\n",
       "      <td>13389.57</td>\n",
       "      <td>0.00</td>\n",
       "      <td>0.00</td>\n",
       "      <td>0.00</td>\n",
       "      <td>0.00</td>\n",
       "      <td>0.00</td>\n",
       "      <td>0.00</td>\n",
       "    </tr>\n",
       "    <tr>\n",
       "      <th>50%</th>\n",
       "      <td>239.00</td>\n",
       "      <td>74871.94</td>\n",
       "      <td>14208.00</td>\n",
       "      <td>0.00</td>\n",
       "      <td>132705.66</td>\n",
       "      <td>214661.44</td>\n",
       "      <td>0.00</td>\n",
       "      <td>0.00</td>\n",
       "    </tr>\n",
       "    <tr>\n",
       "      <th>75%</th>\n",
       "      <td>335.00</td>\n",
       "      <td>208721.48</td>\n",
       "      <td>107315.18</td>\n",
       "      <td>144258.41</td>\n",
       "      <td>943036.71</td>\n",
       "      <td>1111909.25</td>\n",
       "      <td>0.00</td>\n",
       "      <td>0.00</td>\n",
       "    </tr>\n",
       "    <tr>\n",
       "      <th>max</th>\n",
       "      <td>743.00</td>\n",
       "      <td>92445516.64</td>\n",
       "      <td>59585040.37</td>\n",
       "      <td>49585040.37</td>\n",
       "      <td>356015889.35</td>\n",
       "      <td>356179278.92</td>\n",
       "      <td>1.00</td>\n",
       "      <td>1.00</td>\n",
       "    </tr>\n",
       "  </tbody>\n",
       "</table>\n",
       "</div>"
      ],
      "text/plain": [
       "            step      amount  oldbalanceOrg  newbalanceOrig  oldbalanceDest  \\\n",
       "count 6362620.00  6362620.00     6362620.00      6362620.00      6362620.00   \n",
       "mean      243.40   179861.90      833883.10       855113.67      1100701.67   \n",
       "std       142.33   603858.23     2888242.67      2924048.50      3399180.11   \n",
       "min         1.00        0.00           0.00            0.00            0.00   \n",
       "25%       156.00    13389.57           0.00            0.00            0.00   \n",
       "50%       239.00    74871.94       14208.00            0.00       132705.66   \n",
       "75%       335.00   208721.48      107315.18       144258.41       943036.71   \n",
       "max       743.00 92445516.64    59585040.37     49585040.37    356015889.35   \n",
       "\n",
       "       newbalanceDest    isFraud  isFlaggedFraud  \n",
       "count      6362620.00 6362620.00      6362620.00  \n",
       "mean       1224996.40       0.00            0.00  \n",
       "std        3674128.94       0.04            0.00  \n",
       "min              0.00       0.00            0.00  \n",
       "25%              0.00       0.00            0.00  \n",
       "50%         214661.44       0.00            0.00  \n",
       "75%        1111909.25       0.00            0.00  \n",
       "max      356179278.92       1.00            1.00  "
      ]
     },
     "execution_count": 8,
     "metadata": {},
     "output_type": "execute_result"
    }
   ],
   "source": [
    "pd.set_option('display.float_format', '{:.2f}'.format) # To see actual values\n",
    "df.describe()"
   ]
  },
  {
   "cell_type": "code",
   "execution_count": 9,
   "id": "66f0023b",
   "metadata": {},
   "outputs": [
    {
     "data": {
      "text/html": [
       "<div>\n",
       "<style scoped>\n",
       "    .dataframe tbody tr th:only-of-type {\n",
       "        vertical-align: middle;\n",
       "    }\n",
       "\n",
       "    .dataframe tbody tr th {\n",
       "        vertical-align: top;\n",
       "    }\n",
       "\n",
       "    .dataframe thead th {\n",
       "        text-align: right;\n",
       "    }\n",
       "</style>\n",
       "<table border=\"1\" class=\"dataframe\">\n",
       "  <thead>\n",
       "    <tr style=\"text-align: right;\">\n",
       "      <th></th>\n",
       "      <th>type</th>\n",
       "      <th>nameOrig</th>\n",
       "      <th>nameDest</th>\n",
       "    </tr>\n",
       "  </thead>\n",
       "  <tbody>\n",
       "    <tr>\n",
       "      <th>count</th>\n",
       "      <td>6362620</td>\n",
       "      <td>6362620</td>\n",
       "      <td>6362620</td>\n",
       "    </tr>\n",
       "    <tr>\n",
       "      <th>unique</th>\n",
       "      <td>5</td>\n",
       "      <td>6353307</td>\n",
       "      <td>2722362</td>\n",
       "    </tr>\n",
       "    <tr>\n",
       "      <th>top</th>\n",
       "      <td>CASH_OUT</td>\n",
       "      <td>C1902386530</td>\n",
       "      <td>C1286084959</td>\n",
       "    </tr>\n",
       "    <tr>\n",
       "      <th>freq</th>\n",
       "      <td>2237500</td>\n",
       "      <td>3</td>\n",
       "      <td>113</td>\n",
       "    </tr>\n",
       "  </tbody>\n",
       "</table>\n",
       "</div>"
      ],
      "text/plain": [
       "            type     nameOrig     nameDest\n",
       "count    6362620      6362620      6362620\n",
       "unique         5      6353307      2722362\n",
       "top     CASH_OUT  C1902386530  C1286084959\n",
       "freq     2237500            3          113"
      ]
     },
     "execution_count": 9,
     "metadata": {},
     "output_type": "execute_result"
    }
   ],
   "source": [
    "df.describe(include= 'object')"
   ]
  },
  {
   "cell_type": "code",
   "execution_count": 10,
   "id": "3262782f",
   "metadata": {},
   "outputs": [
    {
     "data": {
      "text/plain": [
       "0"
      ]
     },
     "execution_count": 10,
     "metadata": {},
     "output_type": "execute_result"
    }
   ],
   "source": [
    "df.duplicated().sum()"
   ]
  },
  {
   "cell_type": "code",
   "execution_count": 11,
   "id": "58ec7e99",
   "metadata": {},
   "outputs": [
    {
     "data": {
      "text/plain": [
       "<AxesSubplot:xlabel='type', ylabel='count'>"
      ]
     },
     "execution_count": 11,
     "metadata": {},
     "output_type": "execute_result"
    },
    {
     "data": {
      "image/png": "[encoded data removed]",
      "text/plain": [
       "<Figure size 640x480 with 1 Axes>"
      ]
     },
     "metadata": {},
     "output_type": "display_data"
    }
   ],
   "source": [
    "sns.countplot(df['type'])"
   ]
  },
  {
   "cell_type": "code",
   "execution_count": 12,
   "id": "3613a2ff",
   "metadata": {},
   "outputs": [
    {
     "data": {
      "text/plain": [
       "0    6354407\n",
       "1       8213\n",
       "Name: isFraud, dtype: int64"
      ]
     },
     "execution_count": 12,
     "metadata": {},
     "output_type": "execute_result"
    }
   ],
   "source": [
    "df['isFraud'].value_counts()"
   ]
  },
  {
   "cell_type": "code",
   "execution_count": 13,
   "id": "e11709e5",
   "metadata": {},
   "outputs": [
    {
     "data": {
      "image/png": "[encoded data removed]",
      "text/plain": [
       "<Figure size 1200x800 with 1 Axes>"
      ]
     },
     "metadata": {},
     "output_type": "display_data"
    }
   ],
   "source": [
    "plt.figure(figsize=(12,8))\n",
    "plt.title('Pie-Chart for Fraud transactions')\n",
    "plt.pie(df['isFraud'].value_counts(),  autopct='%.2f%%')\n",
    "plt.show()"
   ]
  },
  {
   "cell_type": "code",
   "execution_count": 14,
   "id": "6c7cd4e6",
   "metadata": {},
   "outputs": [
    {
     "data": {
      "text/plain": [
       "step                  743\n",
       "type                    5\n",
       "amount            5316900\n",
       "nameOrig          6353307\n",
       "oldbalanceOrg     1845844\n",
       "newbalanceOrig    2682586\n",
       "nameDest          2722362\n",
       "oldbalanceDest    3614697\n",
       "newbalanceDest    3555499\n",
       "isFraud                 2\n",
       "isFlaggedFraud          2\n",
       "dtype: int64"
      ]
     },
     "execution_count": 14,
     "metadata": {},
     "output_type": "execute_result"
    }
   ],
   "source": [
    "df.nunique()"
   ]
  },
  {
   "cell_type": "code",
   "execution_count": 15,
   "id": "452cb3bd",
   "metadata": {},
   "outputs": [
    {
     "data": {
      "text/html": [
       "<div>\n",
       "<style scoped>\n",
       "    .dataframe tbody tr th:only-of-type {\n",
       "        vertical-align: middle;\n",
       "    }\n",
       "\n",
       "    .dataframe tbody tr th {\n",
       "        vertical-align: top;\n",
       "    }\n",
       "\n",
       "    .dataframe thead th {\n",
       "        text-align: right;\n",
       "    }\n",
       "</style>\n",
       "<table border=\"1\" class=\"dataframe\">\n",
       "  <thead>\n",
       "    <tr style=\"text-align: right;\">\n",
       "      <th></th>\n",
       "      <th>step</th>\n",
       "      <th>amount</th>\n",
       "      <th>oldbalanceOrg</th>\n",
       "      <th>newbalanceOrig</th>\n",
       "      <th>oldbalanceDest</th>\n",
       "      <th>newbalanceDest</th>\n",
       "      <th>isFraud</th>\n",
       "      <th>isFlaggedFraud</th>\n",
       "    </tr>\n",
       "    <tr>\n",
       "      <th>type</th>\n",
       "      <th></th>\n",
       "      <th></th>\n",
       "      <th></th>\n",
       "      <th></th>\n",
       "      <th></th>\n",
       "      <th></th>\n",
       "      <th></th>\n",
       "      <th></th>\n",
       "    </tr>\n",
       "  </thead>\n",
       "  <tbody>\n",
       "    <tr>\n",
       "      <th>CASH_OUT</th>\n",
       "      <td>1513537</td>\n",
       "      <td>5989202243.83</td>\n",
       "      <td>5984124999.99</td>\n",
       "      <td>298767.61</td>\n",
       "      <td>4465524469.93</td>\n",
       "      <td>10493926819.76</td>\n",
       "      <td>4116</td>\n",
       "      <td>0</td>\n",
       "    </tr>\n",
       "    <tr>\n",
       "      <th>TRANSFER</th>\n",
       "      <td>1512246</td>\n",
       "      <td>6067213184.01</td>\n",
       "      <td>7564595045.72</td>\n",
       "      <td>1579821917.66</td>\n",
       "      <td>4397651.53</td>\n",
       "      <td>16311839.86</td>\n",
       "      <td>4097</td>\n",
       "      <td>16</td>\n",
       "    </tr>\n",
       "  </tbody>\n",
       "</table>\n",
       "</div>"
      ],
      "text/plain": [
       "             step        amount  oldbalanceOrg  newbalanceOrig  \\\n",
       "type                                                             \n",
       "CASH_OUT  1513537 5989202243.83  5984124999.99       298767.61   \n",
       "TRANSFER  1512246 6067213184.01  7564595045.72   1579821917.66   \n",
       "\n",
       "          oldbalanceDest  newbalanceDest  isFraud  isFlaggedFraud  \n",
       "type                                                               \n",
       "CASH_OUT   4465524469.93  10493926819.76     4116               0  \n",
       "TRANSFER      4397651.53     16311839.86     4097              16  "
      ]
     },
     "execution_count": 15,
     "metadata": {},
     "output_type": "execute_result"
    }
   ],
   "source": [
    "((df.loc[df[\"isFraud\"]== 1]).groupby(\"type\").sum())"
   ]
  },
  {
   "cell_type": "code",
   "execution_count": 16,
   "id": "5bf8def2",
   "metadata": {},
   "outputs": [
    {
     "data": {
      "text/plain": [
       "Text(0, 0.5, 'Is Fraud')"
      ]
     },
     "execution_count": 16,
     "metadata": {},
     "output_type": "execute_result"
    },
    {
     "data": {
      "image/png": "[encoded data removed]",
      "text/plain": [
       "<Figure size 700x500 with 1 Axes>"
      ]
     },
     "metadata": {},
     "output_type": "display_data"
    }
   ],
   "source": [
    "plt.figure(figsize=(7,5))\n",
    "sns.countplot(x='type',hue='isFraud',palette='Blues',data=df,edgecolor=\"black\")\n",
    "plt.title(\"Fraud Transactions by Type \")\n",
    "plt.xlabel(\"Type of Transaction\")\n",
    "plt.ylabel(\"Is Fraud\")"
   ]
  },
  {
   "cell_type": "code",
   "execution_count": 17,
   "id": "a49d1ec2",
   "metadata": {},
   "outputs": [
    {
     "data": {
      "text/html": [
       "<div>\n",
       "<style scoped>\n",
       "    .dataframe tbody tr th:only-of-type {\n",
       "        vertical-align: middle;\n",
       "    }\n",
       "\n",
       "    .dataframe tbody tr th {\n",
       "        vertical-align: top;\n",
       "    }\n",
       "\n",
       "    .dataframe thead th {\n",
       "        text-align: right;\n",
       "    }\n",
       "</style>\n",
       "<table border=\"1\" class=\"dataframe\">\n",
       "  <thead>\n",
       "    <tr style=\"text-align: right;\">\n",
       "      <th></th>\n",
       "      <th>step</th>\n",
       "      <th>amount</th>\n",
       "      <th>oldbalanceOrg</th>\n",
       "      <th>newbalanceOrig</th>\n",
       "      <th>oldbalanceDest</th>\n",
       "      <th>newbalanceDest</th>\n",
       "      <th>isFraud</th>\n",
       "      <th>isFlaggedFraud</th>\n",
       "    </tr>\n",
       "    <tr>\n",
       "      <th>type</th>\n",
       "      <th></th>\n",
       "      <th></th>\n",
       "      <th></th>\n",
       "      <th></th>\n",
       "      <th></th>\n",
       "      <th></th>\n",
       "      <th></th>\n",
       "      <th></th>\n",
       "    </tr>\n",
       "  </thead>\n",
       "  <tbody>\n",
       "    <tr>\n",
       "      <th>TRANSFER</th>\n",
       "      <td>8601</td>\n",
       "      <td>77785563.69</td>\n",
       "      <td>125085904.19</td>\n",
       "      <td>125085904.19</td>\n",
       "      <td>0.00</td>\n",
       "      <td>0.00</td>\n",
       "      <td>16</td>\n",
       "      <td>16</td>\n",
       "    </tr>\n",
       "  </tbody>\n",
       "</table>\n",
       "</div>"
      ],
      "text/plain": [
       "          step      amount  oldbalanceOrg  newbalanceOrig  oldbalanceDest  \\\n",
       "type                                                                        \n",
       "TRANSFER  8601 77785563.69   125085904.19    125085904.19            0.00   \n",
       "\n",
       "          newbalanceDest  isFraud  isFlaggedFraud  \n",
       "type                                               \n",
       "TRANSFER            0.00       16              16  "
      ]
     },
     "execution_count": 17,
     "metadata": {},
     "output_type": "execute_result"
    }
   ],
   "source": [
    "((df.loc[df[\"isFlaggedFraud\"]== 1]).groupby(\"type\").sum())"
   ]
  },
  {
   "cell_type": "code",
   "execution_count": 18,
   "id": "737e33b1",
   "metadata": {},
   "outputs": [
    {
     "data": {
      "text/plain": [
       "Text(0, 0.5, 'is Flagged Fraud')"
      ]
     },
     "execution_count": 18,
     "metadata": {},
     "output_type": "execute_result"
    },
    {
     "data": {
      "image/png": "[encoded data removed]",
      "text/plain": [
       "<Figure size 700x500 with 1 Axes>"
      ]
     },
     "metadata": {},
     "output_type": "display_data"
    }
   ],
   "source": [
    "plt.figure(figsize=(7,5))\n",
    "sns.countplot(x='type',hue='isFlaggedFraud',palette='Blues',data=df,edgecolor=\"black\")\n",
    "plt.title(\"Flagged Fraud Transactions by Type\")\n",
    "plt.xlabel(\"Type of Transaction\")\n",
    "plt.ylabel(\"is Flagged Fraud\")"
   ]
  },
  {
   "cell_type": "markdown",
   "id": "e824610c",
   "metadata": {},
   "source": [
    "  from above we conlcude that                                                      \n",
    "1) Only in CASH_OUT and TRANSFER type \"Fraud\" is happen                                                 \n",
    "2) Only 16 times \"Flagged Fraud\" happen which is also in TRANSFER type."
   ]
  },
  {
   "cell_type": "code",
   "execution_count": 19,
   "id": "0e3167f7",
   "metadata": {},
   "outputs": [
    {
     "data": {
      "image/png": "[encoded data removed]",
      "text/plain": [
       "<Figure size 1000x500 with 2 Axes>"
      ]
     },
     "metadata": {},
     "output_type": "display_data"
    }
   ],
   "source": [
    "#check for correlation\n",
    "ig ,ax = plt.subplots(figsize=(10,5))\n",
    "sns.heatmap(data=df.corr(),cmap=\"Accent\",annot=True,linewidths=.5,ax=ax).set_title(\"Correlation Matrix\")\n",
    "plt.show()"
   ]
  },
  {
   "cell_type": "markdown",
   "id": "4d6ce2f5",
   "metadata": {},
   "source": [
    "So multicollinearity exists between \"oldbalanceOrg\" and \"newbalanceOrg\" ; \"oldbalanceDest\" and \"newbalanceDest\". \n",
    "\n",
    "Let us try to build the model without removing features."
   ]
  },
  {
   "cell_type": "markdown",
   "id": "d177b5e5",
   "metadata": {},
   "source": [
    "# Feature engineering"
   ]
  },
  {
   "cell_type": "code",
   "execution_count": 20,
   "id": "16246882",
   "metadata": {},
   "outputs": [
    {
     "name": "stdout",
     "output_type": "stream",
     "text": [
      "Shape :  (16, 11)\n"
     ]
    },
    {
     "data": {
      "text/html": [
       "<div>\n",
       "<style scoped>\n",
       "    .dataframe tbody tr th:only-of-type {\n",
       "        vertical-align: middle;\n",
       "    }\n",
       "\n",
       "    .dataframe tbody tr th {\n",
       "        vertical-align: top;\n",
       "    }\n",
       "\n",
       "    .dataframe thead th {\n",
       "        text-align: right;\n",
       "    }\n",
       "</style>\n",
       "<table border=\"1\" class=\"dataframe\">\n",
       "  <thead>\n",
       "    <tr style=\"text-align: right;\">\n",
       "      <th></th>\n",
       "      <th>step</th>\n",
       "      <th>type</th>\n",
       "      <th>amount</th>\n",
       "      <th>nameOrig</th>\n",
       "      <th>oldbalanceOrg</th>\n",
       "      <th>newbalanceOrig</th>\n",
       "      <th>nameDest</th>\n",
       "      <th>oldbalanceDest</th>\n",
       "      <th>newbalanceDest</th>\n",
       "      <th>isFraud</th>\n",
       "      <th>isFlaggedFraud</th>\n",
       "    </tr>\n",
       "  </thead>\n",
       "  <tbody>\n",
       "    <tr>\n",
       "      <th>2736446</th>\n",
       "      <td>212</td>\n",
       "      <td>TRANSFER</td>\n",
       "      <td>4953893.08</td>\n",
       "      <td>C728984460</td>\n",
       "      <td>4953893.08</td>\n",
       "      <td>4953893.08</td>\n",
       "      <td>C639921569</td>\n",
       "      <td>0.00</td>\n",
       "      <td>0.00</td>\n",
       "      <td>1</td>\n",
       "      <td>1</td>\n",
       "    </tr>\n",
       "    <tr>\n",
       "      <th>3247297</th>\n",
       "      <td>250</td>\n",
       "      <td>TRANSFER</td>\n",
       "      <td>1343002.08</td>\n",
       "      <td>C1100582606</td>\n",
       "      <td>1343002.08</td>\n",
       "      <td>1343002.08</td>\n",
       "      <td>C1147517658</td>\n",
       "      <td>0.00</td>\n",
       "      <td>0.00</td>\n",
       "      <td>1</td>\n",
       "      <td>1</td>\n",
       "    </tr>\n",
       "    <tr>\n",
       "      <th>3760288</th>\n",
       "      <td>279</td>\n",
       "      <td>TRANSFER</td>\n",
       "      <td>536624.41</td>\n",
       "      <td>C1035541766</td>\n",
       "      <td>536624.41</td>\n",
       "      <td>536624.41</td>\n",
       "      <td>C1100697970</td>\n",
       "      <td>0.00</td>\n",
       "      <td>0.00</td>\n",
       "      <td>1</td>\n",
       "      <td>1</td>\n",
       "    </tr>\n",
       "    <tr>\n",
       "      <th>5563713</th>\n",
       "      <td>387</td>\n",
       "      <td>TRANSFER</td>\n",
       "      <td>4892193.09</td>\n",
       "      <td>C908544136</td>\n",
       "      <td>4892193.09</td>\n",
       "      <td>4892193.09</td>\n",
       "      <td>C891140444</td>\n",
       "      <td>0.00</td>\n",
       "      <td>0.00</td>\n",
       "      <td>1</td>\n",
       "      <td>1</td>\n",
       "    </tr>\n",
       "    <tr>\n",
       "      <th>5996407</th>\n",
       "      <td>425</td>\n",
       "      <td>TRANSFER</td>\n",
       "      <td>10000000.00</td>\n",
       "      <td>C689608084</td>\n",
       "      <td>19585040.37</td>\n",
       "      <td>19585040.37</td>\n",
       "      <td>C1392803603</td>\n",
       "      <td>0.00</td>\n",
       "      <td>0.00</td>\n",
       "      <td>1</td>\n",
       "      <td>1</td>\n",
       "    </tr>\n",
       "    <tr>\n",
       "      <th>5996409</th>\n",
       "      <td>425</td>\n",
       "      <td>TRANSFER</td>\n",
       "      <td>9585040.37</td>\n",
       "      <td>C452586515</td>\n",
       "      <td>19585040.37</td>\n",
       "      <td>19585040.37</td>\n",
       "      <td>C1109166882</td>\n",
       "      <td>0.00</td>\n",
       "      <td>0.00</td>\n",
       "      <td>1</td>\n",
       "      <td>1</td>\n",
       "    </tr>\n",
       "    <tr>\n",
       "      <th>6168499</th>\n",
       "      <td>554</td>\n",
       "      <td>TRANSFER</td>\n",
       "      <td>3576297.10</td>\n",
       "      <td>C193696150</td>\n",
       "      <td>3576297.10</td>\n",
       "      <td>3576297.10</td>\n",
       "      <td>C484597480</td>\n",
       "      <td>0.00</td>\n",
       "      <td>0.00</td>\n",
       "      <td>1</td>\n",
       "      <td>1</td>\n",
       "    </tr>\n",
       "    <tr>\n",
       "      <th>6205439</th>\n",
       "      <td>586</td>\n",
       "      <td>TRANSFER</td>\n",
       "      <td>353874.22</td>\n",
       "      <td>C1684585475</td>\n",
       "      <td>353874.22</td>\n",
       "      <td>353874.22</td>\n",
       "      <td>C1770418982</td>\n",
       "      <td>0.00</td>\n",
       "      <td>0.00</td>\n",
       "      <td>1</td>\n",
       "      <td>1</td>\n",
       "    </tr>\n",
       "    <tr>\n",
       "      <th>6266413</th>\n",
       "      <td>617</td>\n",
       "      <td>TRANSFER</td>\n",
       "      <td>2542664.27</td>\n",
       "      <td>C786455622</td>\n",
       "      <td>2542664.27</td>\n",
       "      <td>2542664.27</td>\n",
       "      <td>C661958277</td>\n",
       "      <td>0.00</td>\n",
       "      <td>0.00</td>\n",
       "      <td>1</td>\n",
       "      <td>1</td>\n",
       "    </tr>\n",
       "    <tr>\n",
       "      <th>6281482</th>\n",
       "      <td>646</td>\n",
       "      <td>TRANSFER</td>\n",
       "      <td>10000000.00</td>\n",
       "      <td>C19004745</td>\n",
       "      <td>10399045.08</td>\n",
       "      <td>10399045.08</td>\n",
       "      <td>C1806199534</td>\n",
       "      <td>0.00</td>\n",
       "      <td>0.00</td>\n",
       "      <td>1</td>\n",
       "      <td>1</td>\n",
       "    </tr>\n",
       "    <tr>\n",
       "      <th>6281484</th>\n",
       "      <td>646</td>\n",
       "      <td>TRANSFER</td>\n",
       "      <td>399045.08</td>\n",
       "      <td>C724693370</td>\n",
       "      <td>10399045.08</td>\n",
       "      <td>10399045.08</td>\n",
       "      <td>C1909486199</td>\n",
       "      <td>0.00</td>\n",
       "      <td>0.00</td>\n",
       "      <td>1</td>\n",
       "      <td>1</td>\n",
       "    </tr>\n",
       "    <tr>\n",
       "      <th>6296014</th>\n",
       "      <td>671</td>\n",
       "      <td>TRANSFER</td>\n",
       "      <td>3441041.46</td>\n",
       "      <td>C917414431</td>\n",
       "      <td>3441041.46</td>\n",
       "      <td>3441041.46</td>\n",
       "      <td>C1082139865</td>\n",
       "      <td>0.00</td>\n",
       "      <td>0.00</td>\n",
       "      <td>1</td>\n",
       "      <td>1</td>\n",
       "    </tr>\n",
       "    <tr>\n",
       "      <th>6351225</th>\n",
       "      <td>702</td>\n",
       "      <td>TRANSFER</td>\n",
       "      <td>3171085.59</td>\n",
       "      <td>C1892216157</td>\n",
       "      <td>3171085.59</td>\n",
       "      <td>3171085.59</td>\n",
       "      <td>C1308068787</td>\n",
       "      <td>0.00</td>\n",
       "      <td>0.00</td>\n",
       "      <td>1</td>\n",
       "      <td>1</td>\n",
       "    </tr>\n",
       "    <tr>\n",
       "      <th>6362460</th>\n",
       "      <td>730</td>\n",
       "      <td>TRANSFER</td>\n",
       "      <td>10000000.00</td>\n",
       "      <td>C2140038573</td>\n",
       "      <td>17316255.05</td>\n",
       "      <td>17316255.05</td>\n",
       "      <td>C1395467927</td>\n",
       "      <td>0.00</td>\n",
       "      <td>0.00</td>\n",
       "      <td>1</td>\n",
       "      <td>1</td>\n",
       "    </tr>\n",
       "    <tr>\n",
       "      <th>6362462</th>\n",
       "      <td>730</td>\n",
       "      <td>TRANSFER</td>\n",
       "      <td>7316255.05</td>\n",
       "      <td>C1869569059</td>\n",
       "      <td>17316255.05</td>\n",
       "      <td>17316255.05</td>\n",
       "      <td>C1861208726</td>\n",
       "      <td>0.00</td>\n",
       "      <td>0.00</td>\n",
       "      <td>1</td>\n",
       "      <td>1</td>\n",
       "    </tr>\n",
       "    <tr>\n",
       "      <th>6362584</th>\n",
       "      <td>741</td>\n",
       "      <td>TRANSFER</td>\n",
       "      <td>5674547.89</td>\n",
       "      <td>C992223106</td>\n",
       "      <td>5674547.89</td>\n",
       "      <td>5674547.89</td>\n",
       "      <td>C1366804249</td>\n",
       "      <td>0.00</td>\n",
       "      <td>0.00</td>\n",
       "      <td>1</td>\n",
       "      <td>1</td>\n",
       "    </tr>\n",
       "  </tbody>\n",
       "</table>\n",
       "</div>"
      ],
      "text/plain": [
       "         step      type      amount     nameOrig  oldbalanceOrg  \\\n",
       "2736446   212  TRANSFER  4953893.08   C728984460     4953893.08   \n",
       "3247297   250  TRANSFER  1343002.08  C1100582606     1343002.08   \n",
       "3760288   279  TRANSFER   536624.41  C1035541766      536624.41   \n",
       "5563713   387  TRANSFER  4892193.09   C908544136     4892193.09   \n",
       "5996407   425  TRANSFER 10000000.00   C689608084    19585040.37   \n",
       "5996409   425  TRANSFER  9585040.37   C452586515    19585040.37   \n",
       "6168499   554  TRANSFER  3576297.10   C193696150     3576297.10   \n",
       "6205439   586  TRANSFER   353874.22  C1684585475      353874.22   \n",
       "6266413   617  TRANSFER  2542664.27   C786455622     2542664.27   \n",
       "6281482   646  TRANSFER 10000000.00    C19004745    10399045.08   \n",
       "6281484   646  TRANSFER   399045.08   C724693370    10399045.08   \n",
       "6296014   671  TRANSFER  3441041.46   C917414431     3441041.46   \n",
       "6351225   702  TRANSFER  3171085.59  C1892216157     3171085.59   \n",
       "6362460   730  TRANSFER 10000000.00  C2140038573    17316255.05   \n",
       "6362462   730  TRANSFER  7316255.05  C1869569059    17316255.05   \n",
       "6362584   741  TRANSFER  5674547.89   C992223106     5674547.89   \n",
       "\n",
       "         newbalanceOrig     nameDest  oldbalanceDest  newbalanceDest  isFraud  \\\n",
       "2736446      4953893.08   C639921569            0.00            0.00        1   \n",
       "3247297      1343002.08  C1147517658            0.00            0.00        1   \n",
       "3760288       536624.41  C1100697970            0.00            0.00        1   \n",
       "5563713      4892193.09   C891140444            0.00            0.00        1   \n",
       "5996407     19585040.37  C1392803603            0.00            0.00        1   \n",
       "5996409     19585040.37  C1109166882            0.00            0.00        1   \n",
       "6168499      3576297.10   C484597480            0.00            0.00        1   \n",
       "6205439       353874.22  C1770418982            0.00            0.00        1   \n",
       "6266413      2542664.27   C661958277            0.00            0.00        1   \n",
       "6281482     10399045.08  C1806199534            0.00            0.00        1   \n",
       "6281484     10399045.08  C1909486199            0.00            0.00        1   \n",
       "6296014      3441041.46  C1082139865            0.00            0.00        1   \n",
       "6351225      3171085.59  C1308068787            0.00            0.00        1   \n",
       "6362460     17316255.05  C1395467927            0.00            0.00        1   \n",
       "6362462     17316255.05  C1861208726            0.00            0.00        1   \n",
       "6362584      5674547.89  C1366804249            0.00            0.00        1   \n",
       "\n",
       "         isFlaggedFraud  \n",
       "2736446               1  \n",
       "3247297               1  \n",
       "3760288               1  \n",
       "5563713               1  \n",
       "5996407               1  \n",
       "5996409               1  \n",
       "6168499               1  \n",
       "6205439               1  \n",
       "6266413               1  \n",
       "6281482               1  \n",
       "6281484               1  \n",
       "6296014               1  \n",
       "6351225               1  \n",
       "6362460               1  \n",
       "6362462               1  \n",
       "6362584               1  "
      ]
     },
     "execution_count": 20,
     "metadata": {},
     "output_type": "execute_result"
    }
   ],
   "source": [
    "print(\"Shape : \",(df.loc[(df[\"isFraud\"] == 1 ) & (df[\"isFlaggedFraud\"] == 1 )]).shape)\n",
    "df.loc[(df[\"isFraud\"] == 1 ) & (df[\"isFlaggedFraud\"] == 1 )]"
   ]
  },
  {
   "cell_type": "markdown",
   "id": "bef9b710",
   "metadata": {},
   "source": [
    "Conclusion:\n",
    "When \"Flagged Fraud\" is happen also \"Fraud\" is happen, So, Don't need of \"Flagged Fraud\" feature that's why we drop it"
   ]
  },
  {
   "cell_type": "markdown",
   "id": "dda5ae3a",
   "metadata": {},
   "source": [
    "# Lebel Encoding"
   ]
  },
  {
   "cell_type": "code",
   "execution_count": 21,
   "id": "415daa78",
   "metadata": {},
   "outputs": [
    {
     "data": {
      "text/plain": [
       "array(['PAYMENT', 'TRANSFER', 'CASH_OUT', 'DEBIT', 'CASH_IN'],\n",
       "      dtype=object)"
      ]
     },
     "execution_count": 21,
     "metadata": {},
     "output_type": "execute_result"
    }
   ],
   "source": [
    "df[\"type\"].unique()"
   ]
  },
  {
   "cell_type": "code",
   "execution_count": 22,
   "id": "f9bb7b5b",
   "metadata": {},
   "outputs": [
    {
     "data": {
      "text/plain": [
       "Index(['type', 'nameOrig', 'nameDest'], dtype='object')"
      ]
     },
     "execution_count": 22,
     "metadata": {},
     "output_type": "execute_result"
    }
   ],
   "source": [
    "# checking Object Columns\n",
    "df.columns[df.dtypes == 'object']"
   ]
  },
  {
   "cell_type": "code",
   "execution_count": 23,
   "id": "2e779656",
   "metadata": {},
   "outputs": [],
   "source": [
    "# for Label Encoder\n",
    "\n",
    "le = {}\n",
    "for i in df.select_dtypes('object').columns:\n",
    "    le[i] = LabelEncoder()\n",
    "    df[i] = le[i].fit_transform(df[i])"
   ]
  },
  {
   "cell_type": "code",
   "execution_count": 24,
   "id": "7561a7f8",
   "metadata": {},
   "outputs": [
    {
     "data": {
      "text/html": [
       "<div>\n",
       "<style scoped>\n",
       "    .dataframe tbody tr th:only-of-type {\n",
       "        vertical-align: middle;\n",
       "    }\n",
       "\n",
       "    .dataframe tbody tr th {\n",
       "        vertical-align: top;\n",
       "    }\n",
       "\n",
       "    .dataframe thead th {\n",
       "        text-align: right;\n",
       "    }\n",
       "</style>\n",
       "<table border=\"1\" class=\"dataframe\">\n",
       "  <thead>\n",
       "    <tr style=\"text-align: right;\">\n",
       "      <th></th>\n",
       "      <th>step</th>\n",
       "      <th>type</th>\n",
       "      <th>amount</th>\n",
       "      <th>nameOrig</th>\n",
       "      <th>oldbalanceOrg</th>\n",
       "      <th>newbalanceOrig</th>\n",
       "      <th>nameDest</th>\n",
       "      <th>oldbalanceDest</th>\n",
       "      <th>newbalanceDest</th>\n",
       "      <th>isFraud</th>\n",
       "      <th>isFlaggedFraud</th>\n",
       "    </tr>\n",
       "  </thead>\n",
       "  <tbody>\n",
       "    <tr>\n",
       "      <th>0</th>\n",
       "      <td>1</td>\n",
       "      <td>3</td>\n",
       "      <td>9839.64</td>\n",
       "      <td>757869</td>\n",
       "      <td>170136.00</td>\n",
       "      <td>160296.36</td>\n",
       "      <td>1662094</td>\n",
       "      <td>0.00</td>\n",
       "      <td>0.00</td>\n",
       "      <td>0</td>\n",
       "      <td>0</td>\n",
       "    </tr>\n",
       "    <tr>\n",
       "      <th>1</th>\n",
       "      <td>1</td>\n",
       "      <td>3</td>\n",
       "      <td>1864.28</td>\n",
       "      <td>2188998</td>\n",
       "      <td>21249.00</td>\n",
       "      <td>19384.72</td>\n",
       "      <td>1733924</td>\n",
       "      <td>0.00</td>\n",
       "      <td>0.00</td>\n",
       "      <td>0</td>\n",
       "      <td>0</td>\n",
       "    </tr>\n",
       "  </tbody>\n",
       "</table>\n",
       "</div>"
      ],
      "text/plain": [
       "   step  type  amount  nameOrig  oldbalanceOrg  newbalanceOrig  nameDest  \\\n",
       "0     1     3 9839.64    757869      170136.00       160296.36   1662094   \n",
       "1     1     3 1864.28   2188998       21249.00        19384.72   1733924   \n",
       "\n",
       "   oldbalanceDest  newbalanceDest  isFraud  isFlaggedFraud  \n",
       "0            0.00            0.00        0               0  \n",
       "1            0.00            0.00        0               0  "
      ]
     },
     "execution_count": 24,
     "metadata": {},
     "output_type": "execute_result"
    }
   ],
   "source": [
    "df.head(2)"
   ]
  },
  {
   "cell_type": "markdown",
   "id": "5cec443b",
   "metadata": {},
   "source": [
    "# Balancing Dependent Variable"
   ]
  },
  {
   "cell_type": "code",
   "execution_count": 25,
   "id": "6c4b7ad6",
   "metadata": {},
   "outputs": [
    {
     "data": {
      "text/plain": [
       "0    6354407\n",
       "1       8213\n",
       "Name: isFraud, dtype: int64"
      ]
     },
     "execution_count": 25,
     "metadata": {},
     "output_type": "execute_result"
    }
   ],
   "source": [
    "# cheacking dependent variable is balanced or not?\n",
    "df[\"isFraud\"].value_counts()"
   ]
  },
  {
   "cell_type": "code",
   "execution_count": 26,
   "id": "d4333a99",
   "metadata": {},
   "outputs": [],
   "source": [
    "X = df.drop(columns=['isFraud'])\n",
    "y = df['isFraud']"
   ]
  },
  {
   "cell_type": "code",
   "execution_count": 27,
   "id": "6854b0d6",
   "metadata": {},
   "outputs": [],
   "source": [
    "over_sample = SMOTE()\n",
    "X,y = over_sample.fit_resample(X,y)"
   ]
  },
  {
   "cell_type": "code",
   "execution_count": 28,
   "id": "a0dea23c",
   "metadata": {},
   "outputs": [
    {
     "data": {
      "text/plain": [
       "0    6354407\n",
       "1    6354407\n",
       "Name: isFraud, dtype: int64"
      ]
     },
     "execution_count": 28,
     "metadata": {},
     "output_type": "execute_result"
    }
   ],
   "source": [
    "y.value_counts() #resampled"
   ]
  },
  {
   "cell_type": "markdown",
   "id": "f0c7a2ec",
   "metadata": {},
   "source": [
    "# Train Test Split"
   ]
  },
  {
   "cell_type": "code",
   "execution_count": 29,
   "id": "8763c2e6",
   "metadata": {},
   "outputs": [],
   "source": [
    "#import required libraries and split the data into train anad test\n",
    "\n",
    "from sklearn.model_selection import train_test_split\n",
    "\n",
    "X_train, X_test, y_train, y_test = train_test_split(X, y, test_size=0.20)"
   ]
  },
  {
   "cell_type": "code",
   "execution_count": 30,
   "id": "47add40c",
   "metadata": {},
   "outputs": [
    {
     "name": "stdout",
     "output_type": "stream",
     "text": [
      "(10167051, 10)\n",
      "(2541763, 10)\n",
      "(10167051,)\n",
      "(2541763,)\n"
     ]
    }
   ],
   "source": [
    "print(X_train.shape)\n",
    "print(X_test.shape)\n",
    "print(y_train.shape)\n",
    "print(y_test.shape)"
   ]
  },
  {
   "cell_type": "markdown",
   "id": "b3702a2d",
   "metadata": {},
   "source": [
    "# Scaling values"
   ]
  },
  {
   "cell_type": "code",
   "execution_count": 31,
   "id": "295b1035",
   "metadata": {},
   "outputs": [],
   "source": [
    "from sklearn.preprocessing import MinMaxScaler\n",
    "scaler = MinMaxScaler()\n",
    "\n",
    "X_train = scaler.fit_transform(X_train)\n",
    "\n",
    "X_test = scaler.transform(X_test)"
   ]
  },
  {
   "cell_type": "markdown",
   "id": "33288a69",
   "metadata": {},
   "source": [
    "# Model Building"
   ]
  },
  {
   "cell_type": "markdown",
   "id": "2ad58689",
   "metadata": {},
   "source": [
    "## Logistic Regression"
   ]
  },
  {
   "cell_type": "code",
   "execution_count": 32,
   "id": "4b38c146",
   "metadata": {},
   "outputs": [],
   "source": [
    "from sklearn.linear_model import LogisticRegression\n",
    "logreg = LogisticRegression()\n",
    "\n",
    "logreg.fit(X_train, y_train)\n",
    "\n",
    "pred_logreg = logreg.predict(X_test)"
   ]
  },
  {
   "cell_type": "code",
   "execution_count": 33,
   "id": "fa815ced",
   "metadata": {},
   "outputs": [
    {
     "name": "stdout",
     "output_type": "stream",
     "text": [
      "Confusion Matrix :\n",
      "[[1199565   73043]\n",
      " [ 116268 1152887]]\n",
      " \n",
      "Accuracy    : 92.55198065279886\n",
      "Precision   : 94.04182946824044\n",
      "TPR/ Recall : 90.83894402180978\n",
      "FPR         : 8.33635526211585e-05\n",
      "F1_Ratio    : 92.41264325664257\n"
     ]
    }
   ],
   "source": [
    "conf_logreg = confusion_matrix(y_test , pred_logreg)\n",
    "print(\"Confusion Matrix :\")\n",
    "print(conf_logreg)\n",
    "print(\" \")\n",
    "print(\"Accuracy    :\", accuracy_score( y_test, pred_logreg ) * 100)\n",
    "print(\"Precision   :\", precision_score( y_test, pred_logreg ) * 100)\n",
    "print(\"TPR/ Recall :\", recall_score( y_test, pred_logreg ) * 100)\n",
    "print(\"FPR         :\", conf_logreg[0][1] / ( conf_logreg[0][1] * conf_logreg[0][0] ) *100)\n",
    "print(\"F1_Ratio    :\", f1_score( y_test, pred_logreg ) * 100)"
   ]
  },
  {
   "cell_type": "code",
   "execution_count": 34,
   "id": "d21b8dfe",
   "metadata": {},
   "outputs": [
    {
     "data": {
      "image/png": "[encoded data removed]",
      "text/plain": [
       "<Figure size 1300x800 with 1 Axes>"
      ]
     },
     "metadata": {},
     "output_type": "display_data"
    }
   ],
   "source": [
    "#plotting the roc curve and getting the value of auroc \n",
    "\n",
    "logit_roc_auc=roc_auc_score(y_test,logreg.predict_proba(X_test)[:,1])\n",
    "fpr,tpr,thresholds=roc_curve(y_test,logreg.predict_proba(X_test)[:,1])\n",
    "plt.figure(figsize=(13,8))\n",
    "plt.plot(fpr,tpr,label=\"Logistic_regression (area=%0.2f)\"% logit_roc_auc)\n",
    "plt.plot([0,1],[0,1],\"r--\")\n",
    "plt.xlim([0.0,1.0])\n",
    "plt.ylim([0.0,1.05])\n",
    "plt.xlabel(\"False positive ratio(fpr)\")\n",
    "plt.ylabel(\"True positive ratio(tpr)\")\n",
    "plt.title(\"ROC\")\n",
    "plt.legend(loc=\"lower right\")\n",
    "plt.savefig(\"Log_ROC\")\n",
    "plt.show()"
   ]
  },
  {
   "cell_type": "markdown",
   "id": "7432a6ca",
   "metadata": {},
   "source": [
    "# Checking our Model is Overfit or Not"
   ]
  },
  {
   "cell_type": "code",
   "execution_count": 35,
   "id": "37fe2723",
   "metadata": {},
   "outputs": [],
   "source": [
    "from sklearn.model_selection import cross_val_score"
   ]
  },
  {
   "cell_type": "code",
   "execution_count": 36,
   "id": "4c0c633f",
   "metadata": {},
   "outputs": [
    {
     "name": "stdout",
     "output_type": "stream",
     "text": [
      "[0.94134843 0.95013728 0.90772687]\n"
     ]
    }
   ],
   "source": [
    "cvs = cross_val_score(logreg,X,y,cv=3)\n",
    "print(cvs)"
   ]
  },
  {
   "cell_type": "code",
   "execution_count": 37,
   "id": "65426fe6",
   "metadata": {},
   "outputs": [
    {
     "data": {
      "text/plain": [
       "0.9330708586751232"
      ]
     },
     "execution_count": 37,
     "metadata": {},
     "output_type": "execute_result"
    }
   ],
   "source": [
    "cvs.mean()"
   ]
  },
  {
   "cell_type": "markdown",
   "id": "2cd8445c",
   "metadata": {},
   "source": [
    "Cross validation score is less than accuracy. So this is a case of underfitting."
   ]
  },
  {
   "cell_type": "markdown",
   "id": "21ae9add",
   "metadata": {},
   "source": [
    "Trying to improve accuracy by removing multi-collinearity and selecting the best features"
   ]
  },
  {
   "cell_type": "markdown",
   "id": "f7923ad8",
   "metadata": {},
   "source": [
    "# Improving accuracy\n",
    "Select the best 8 features"
   ]
  },
  {
   "cell_type": "code",
   "execution_count": 38,
   "id": "44cd5ae7",
   "metadata": {},
   "outputs": [
    {
     "data": {
      "text/html": [
       "<div>\n",
       "<style scoped>\n",
       "    .dataframe tbody tr th:only-of-type {\n",
       "        vertical-align: middle;\n",
       "    }\n",
       "\n",
       "    .dataframe tbody tr th {\n",
       "        vertical-align: top;\n",
       "    }\n",
       "\n",
       "    .dataframe thead th {\n",
       "        text-align: right;\n",
       "    }\n",
       "</style>\n",
       "<table border=\"1\" class=\"dataframe\">\n",
       "  <thead>\n",
       "    <tr style=\"text-align: right;\">\n",
       "      <th></th>\n",
       "      <th>step</th>\n",
       "      <th>type</th>\n",
       "      <th>amount</th>\n",
       "      <th>nameOrig</th>\n",
       "      <th>oldbalanceOrg</th>\n",
       "      <th>newbalanceOrig</th>\n",
       "      <th>nameDest</th>\n",
       "      <th>oldbalanceDest</th>\n",
       "      <th>newbalanceDest</th>\n",
       "      <th>isFraud</th>\n",
       "      <th>isFlaggedFraud</th>\n",
       "    </tr>\n",
       "  </thead>\n",
       "  <tbody>\n",
       "    <tr>\n",
       "      <th>0</th>\n",
       "      <td>1</td>\n",
       "      <td>3</td>\n",
       "      <td>9839.64</td>\n",
       "      <td>757869</td>\n",
       "      <td>170136.00</td>\n",
       "      <td>160296.36</td>\n",
       "      <td>1662094</td>\n",
       "      <td>0.00</td>\n",
       "      <td>0.00</td>\n",
       "      <td>0</td>\n",
       "      <td>0</td>\n",
       "    </tr>\n",
       "    <tr>\n",
       "      <th>1</th>\n",
       "      <td>1</td>\n",
       "      <td>3</td>\n",
       "      <td>1864.28</td>\n",
       "      <td>2188998</td>\n",
       "      <td>21249.00</td>\n",
       "      <td>19384.72</td>\n",
       "      <td>1733924</td>\n",
       "      <td>0.00</td>\n",
       "      <td>0.00</td>\n",
       "      <td>0</td>\n",
       "      <td>0</td>\n",
       "    </tr>\n",
       "    <tr>\n",
       "      <th>2</th>\n",
       "      <td>1</td>\n",
       "      <td>4</td>\n",
       "      <td>181.00</td>\n",
       "      <td>1002156</td>\n",
       "      <td>181.00</td>\n",
       "      <td>0.00</td>\n",
       "      <td>439685</td>\n",
       "      <td>0.00</td>\n",
       "      <td>0.00</td>\n",
       "      <td>1</td>\n",
       "      <td>0</td>\n",
       "    </tr>\n",
       "    <tr>\n",
       "      <th>3</th>\n",
       "      <td>1</td>\n",
       "      <td>1</td>\n",
       "      <td>181.00</td>\n",
       "      <td>5828262</td>\n",
       "      <td>181.00</td>\n",
       "      <td>0.00</td>\n",
       "      <td>391696</td>\n",
       "      <td>21182.00</td>\n",
       "      <td>0.00</td>\n",
       "      <td>1</td>\n",
       "      <td>0</td>\n",
       "    </tr>\n",
       "    <tr>\n",
       "      <th>4</th>\n",
       "      <td>1</td>\n",
       "      <td>3</td>\n",
       "      <td>11668.14</td>\n",
       "      <td>3445981</td>\n",
       "      <td>41554.00</td>\n",
       "      <td>29885.86</td>\n",
       "      <td>828919</td>\n",
       "      <td>0.00</td>\n",
       "      <td>0.00</td>\n",
       "      <td>0</td>\n",
       "      <td>0</td>\n",
       "    </tr>\n",
       "    <tr>\n",
       "      <th>...</th>\n",
       "      <td>...</td>\n",
       "      <td>...</td>\n",
       "      <td>...</td>\n",
       "      <td>...</td>\n",
       "      <td>...</td>\n",
       "      <td>...</td>\n",
       "      <td>...</td>\n",
       "      <td>...</td>\n",
       "      <td>...</td>\n",
       "      <td>...</td>\n",
       "      <td>...</td>\n",
       "    </tr>\n",
       "    <tr>\n",
       "      <th>6362615</th>\n",
       "      <td>743</td>\n",
       "      <td>1</td>\n",
       "      <td>339682.13</td>\n",
       "      <td>5651847</td>\n",
       "      <td>339682.13</td>\n",
       "      <td>0.00</td>\n",
       "      <td>505863</td>\n",
       "      <td>0.00</td>\n",
       "      <td>339682.13</td>\n",
       "      <td>1</td>\n",
       "      <td>0</td>\n",
       "    </tr>\n",
       "    <tr>\n",
       "      <th>6362616</th>\n",
       "      <td>743</td>\n",
       "      <td>4</td>\n",
       "      <td>6311409.28</td>\n",
       "      <td>1737278</td>\n",
       "      <td>6311409.28</td>\n",
       "      <td>0.00</td>\n",
       "      <td>260949</td>\n",
       "      <td>0.00</td>\n",
       "      <td>0.00</td>\n",
       "      <td>1</td>\n",
       "      <td>0</td>\n",
       "    </tr>\n",
       "    <tr>\n",
       "      <th>6362617</th>\n",
       "      <td>743</td>\n",
       "      <td>1</td>\n",
       "      <td>6311409.28</td>\n",
       "      <td>533958</td>\n",
       "      <td>6311409.28</td>\n",
       "      <td>0.00</td>\n",
       "      <td>108224</td>\n",
       "      <td>68488.84</td>\n",
       "      <td>6379898.11</td>\n",
       "      <td>1</td>\n",
       "      <td>0</td>\n",
       "    </tr>\n",
       "    <tr>\n",
       "      <th>6362618</th>\n",
       "      <td>743</td>\n",
       "      <td>4</td>\n",
       "      <td>850002.52</td>\n",
       "      <td>2252932</td>\n",
       "      <td>850002.52</td>\n",
       "      <td>0.00</td>\n",
       "      <td>319713</td>\n",
       "      <td>0.00</td>\n",
       "      <td>0.00</td>\n",
       "      <td>1</td>\n",
       "      <td>0</td>\n",
       "    </tr>\n",
       "    <tr>\n",
       "      <th>6362619</th>\n",
       "      <td>743</td>\n",
       "      <td>1</td>\n",
       "      <td>850002.52</td>\n",
       "      <td>919229</td>\n",
       "      <td>850002.52</td>\n",
       "      <td>0.00</td>\n",
       "      <td>534595</td>\n",
       "      <td>6510099.11</td>\n",
       "      <td>7360101.63</td>\n",
       "      <td>1</td>\n",
       "      <td>0</td>\n",
       "    </tr>\n",
       "  </tbody>\n",
       "</table>\n",
       "<p>6362620 rows × 11 columns</p>\n",
       "</div>"
      ],
      "text/plain": [
       "         step  type     amount  nameOrig  oldbalanceOrg  newbalanceOrig  \\\n",
       "0           1     3    9839.64    757869      170136.00       160296.36   \n",
       "1           1     3    1864.28   2188998       21249.00        19384.72   \n",
       "2           1     4     181.00   1002156         181.00            0.00   \n",
       "3           1     1     181.00   5828262         181.00            0.00   \n",
       "4           1     3   11668.14   3445981       41554.00        29885.86   \n",
       "...       ...   ...        ...       ...            ...             ...   \n",
       "6362615   743     1  339682.13   5651847      339682.13            0.00   \n",
       "6362616   743     4 6311409.28   1737278     6311409.28            0.00   \n",
       "6362617   743     1 6311409.28    533958     6311409.28            0.00   \n",
       "6362618   743     4  850002.52   2252932      850002.52            0.00   \n",
       "6362619   743     1  850002.52    919229      850002.52            0.00   \n",
       "\n",
       "         nameDest  oldbalanceDest  newbalanceDest  isFraud  isFlaggedFraud  \n",
       "0         1662094            0.00            0.00        0               0  \n",
       "1         1733924            0.00            0.00        0               0  \n",
       "2          439685            0.00            0.00        1               0  \n",
       "3          391696        21182.00            0.00        1               0  \n",
       "4          828919            0.00            0.00        0               0  \n",
       "...           ...             ...             ...      ...             ...  \n",
       "6362615    505863            0.00       339682.13        1               0  \n",
       "6362616    260949            0.00            0.00        1               0  \n",
       "6362617    108224        68488.84      6379898.11        1               0  \n",
       "6362618    319713            0.00            0.00        1               0  \n",
       "6362619    534595      6510099.11      7360101.63        1               0  \n",
       "\n",
       "[6362620 rows x 11 columns]"
      ]
     },
     "execution_count": 38,
     "metadata": {},
     "output_type": "execute_result"
    }
   ],
   "source": [
    "df"
   ]
  },
  {
   "cell_type": "markdown",
   "id": "efa17610",
   "metadata": {},
   "source": [
    "Now we can build a new logistic regression model using only these 8 features"
   ]
  },
  {
   "cell_type": "code",
   "execution_count": 39,
   "id": "ad4ec6da",
   "metadata": {},
   "outputs": [],
   "source": [
    "df.drop([\"nameOrig\",\"nameDest\"],inplace=True,axis=1)"
   ]
  },
  {
   "cell_type": "code",
   "execution_count": 40,
   "id": "fbb81db4",
   "metadata": {},
   "outputs": [
    {
     "data": {
      "text/html": [
       "<div>\n",
       "<style scoped>\n",
       "    .dataframe tbody tr th:only-of-type {\n",
       "        vertical-align: middle;\n",
       "    }\n",
       "\n",
       "    .dataframe tbody tr th {\n",
       "        vertical-align: top;\n",
       "    }\n",
       "\n",
       "    .dataframe thead th {\n",
       "        text-align: right;\n",
       "    }\n",
       "</style>\n",
       "<table border=\"1\" class=\"dataframe\">\n",
       "  <thead>\n",
       "    <tr style=\"text-align: right;\">\n",
       "      <th></th>\n",
       "      <th>step</th>\n",
       "      <th>type</th>\n",
       "      <th>amount</th>\n",
       "      <th>oldbalanceOrg</th>\n",
       "      <th>newbalanceOrig</th>\n",
       "      <th>oldbalanceDest</th>\n",
       "      <th>newbalanceDest</th>\n",
       "      <th>isFraud</th>\n",
       "      <th>isFlaggedFraud</th>\n",
       "    </tr>\n",
       "  </thead>\n",
       "  <tbody>\n",
       "    <tr>\n",
       "      <th>6362615</th>\n",
       "      <td>743</td>\n",
       "      <td>1</td>\n",
       "      <td>339682.13</td>\n",
       "      <td>339682.13</td>\n",
       "      <td>0.00</td>\n",
       "      <td>0.00</td>\n",
       "      <td>339682.13</td>\n",
       "      <td>1</td>\n",
       "      <td>0</td>\n",
       "    </tr>\n",
       "    <tr>\n",
       "      <th>6362616</th>\n",
       "      <td>743</td>\n",
       "      <td>4</td>\n",
       "      <td>6311409.28</td>\n",
       "      <td>6311409.28</td>\n",
       "      <td>0.00</td>\n",
       "      <td>0.00</td>\n",
       "      <td>0.00</td>\n",
       "      <td>1</td>\n",
       "      <td>0</td>\n",
       "    </tr>\n",
       "    <tr>\n",
       "      <th>6362617</th>\n",
       "      <td>743</td>\n",
       "      <td>1</td>\n",
       "      <td>6311409.28</td>\n",
       "      <td>6311409.28</td>\n",
       "      <td>0.00</td>\n",
       "      <td>68488.84</td>\n",
       "      <td>6379898.11</td>\n",
       "      <td>1</td>\n",
       "      <td>0</td>\n",
       "    </tr>\n",
       "    <tr>\n",
       "      <th>6362618</th>\n",
       "      <td>743</td>\n",
       "      <td>4</td>\n",
       "      <td>850002.52</td>\n",
       "      <td>850002.52</td>\n",
       "      <td>0.00</td>\n",
       "      <td>0.00</td>\n",
       "      <td>0.00</td>\n",
       "      <td>1</td>\n",
       "      <td>0</td>\n",
       "    </tr>\n",
       "    <tr>\n",
       "      <th>6362619</th>\n",
       "      <td>743</td>\n",
       "      <td>1</td>\n",
       "      <td>850002.52</td>\n",
       "      <td>850002.52</td>\n",
       "      <td>0.00</td>\n",
       "      <td>6510099.11</td>\n",
       "      <td>7360101.63</td>\n",
       "      <td>1</td>\n",
       "      <td>0</td>\n",
       "    </tr>\n",
       "  </tbody>\n",
       "</table>\n",
       "</div>"
      ],
      "text/plain": [
       "         step  type     amount  oldbalanceOrg  newbalanceOrig  oldbalanceDest  \\\n",
       "6362615   743     1  339682.13      339682.13            0.00            0.00   \n",
       "6362616   743     4 6311409.28     6311409.28            0.00            0.00   \n",
       "6362617   743     1 6311409.28     6311409.28            0.00        68488.84   \n",
       "6362618   743     4  850002.52      850002.52            0.00            0.00   \n",
       "6362619   743     1  850002.52      850002.52            0.00      6510099.11   \n",
       "\n",
       "         newbalanceDest  isFraud  isFlaggedFraud  \n",
       "6362615       339682.13        1               0  \n",
       "6362616            0.00        1               0  \n",
       "6362617      6379898.11        1               0  \n",
       "6362618            0.00        1               0  \n",
       "6362619      7360101.63        1               0  "
      ]
     },
     "execution_count": 40,
     "metadata": {},
     "output_type": "execute_result"
    }
   ],
   "source": [
    "df.tail()"
   ]
  },
  {
   "cell_type": "markdown",
   "id": "a9051c36",
   "metadata": {},
   "source": [
    "Now we can build a new logistic regression model using only these 8 features"
   ]
  },
  {
   "cell_type": "code",
   "execution_count": 41,
   "id": "b4c0297e",
   "metadata": {},
   "outputs": [],
   "source": [
    "X_new = df.iloc[:,:-1]\n",
    "y_new = df.iloc[:,-1]"
   ]
  },
  {
   "cell_type": "code",
   "execution_count": 42,
   "id": "c60b16f2",
   "metadata": {},
   "outputs": [],
   "source": [
    "X_new_train, X_new_test, y_new_train, y_new_test = train_test_split(X_new, y_new, test_size=0.30, random_state=19)"
   ]
  },
  {
   "cell_type": "code",
   "execution_count": 43,
   "id": "e7efa561",
   "metadata": {},
   "outputs": [],
   "source": [
    "#  Scaling values\n",
    "X_new_train = scaler.fit_transform(X_new_train)\n",
    "\n",
    "X_new_test = scaler.transform(X_new_test)"
   ]
  },
  {
   "cell_type": "code",
   "execution_count": 44,
   "id": "5b4f5493",
   "metadata": {},
   "outputs": [],
   "source": [
    "logreg_new = LogisticRegression()\n",
    "\n",
    "logreg_new.fit(X_new_train, y_new_train)\n",
    "\n",
    "pred_new_logreg = logreg_new.predict(X_new_test)"
   ]
  },
  {
   "cell_type": "code",
   "execution_count": 45,
   "id": "ac4e5156",
   "metadata": {},
   "outputs": [
    {
     "name": "stdout",
     "output_type": "stream",
     "text": [
      "Confusion Matrix :\n",
      "[[1199565   73043]\n",
      " [ 116268 1152887]]\n",
      " \n",
      "Accuracy    : 99.99984283204088\n",
      "Precision   : 0.0\n",
      "TPR/ Recall : 0.0\n",
      "FPR         : nan\n",
      "F1_Ratio    : 0.0\n"
     ]
    }
   ],
   "source": [
    "conf_new_logreg = confusion_matrix(y_new_test , pred_new_logreg)\n",
    "print(\"Confusion Matrix :\")\n",
    "print(conf_logreg)\n",
    "print(\" \")\n",
    "print(\"Accuracy    :\", accuracy_score(y_new_test , pred_new_logreg) * 100)\n",
    "print(\"Precision   :\", precision_score(y_new_test , pred_new_logreg) * 100)\n",
    "print(\"TPR/ Recall :\", recall_score(y_new_test , pred_new_logreg) * 100)\n",
    "print(\"FPR         :\", conf_new_logreg[0][1] / ( conf_new_logreg[0][1] * conf_new_logreg[0][0] ) *100)\n",
    "print(\"F1_Ratio    :\", f1_score(y_new_test , pred_new_logreg) * 100)"
   ]
  },
  {
   "cell_type": "markdown",
   "id": "7fab16ce",
   "metadata": {},
   "source": [
    "# So final accuracy turns out to be 99.99%, which is a big improvement from previous case"
   ]
  },
  {
   "cell_type": "code",
   "execution_count": null,
   "id": "f213f403",
   "metadata": {},
   "outputs": [],
   "source": []
  },
  {
   "cell_type": "code",
   "execution_count": null,
   "id": "d90047cd",
   "metadata": {},
   "outputs": [],
   "source": []
  }
 ],
 "metadata": {
  "kernelspec": {
   "display_name": "Python 3 (ipykernel)",
   "language": "python",
   "name": "python3"
  },
  "language_info": {
   "codemirror_mode": {
    "name": "ipython",
    "version": 3
   },
   "file_extension": ".py",
   "mimetype": "text/x-python",
   "name": "python",
   "nbconvert_exporter": "python",
   "pygments_lexer": "ipython3",
   "version": "3.9.13"
  }
 },
 "nbformat": 4,
 "nbformat_minor": 5
}
